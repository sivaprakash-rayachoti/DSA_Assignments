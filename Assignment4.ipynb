{
 "cells": [
  {
   "cell_type": "markdown",
   "id": "8ba4276a-73c1-4a0a-9804-b8e19ee73b0d",
   "metadata": {},
   "source": [
    "<aside>\n",
    "💡 **Question 1**\n",
    "Given three integer arrays arr1, arr2 and arr3 **sorted** in **strictly increasing** order, return a sorted array of **only** the integers that appeared in **all** three arrays.\n",
    "\n",
    "**Example 1:**\n",
    "\n",
    "Input: arr1 = [1,2,3,4,5], arr2 = [1,2,5,7,9], arr3 = [1,3,4,5,8]\n",
    "\n",
    "Output: [1,5]\n",
    "\n",
    "**Explanation:** Only 1 and 5 appeared in the three arrays.\n",
    "\n",
    "</aside>"
   ]
  },
  {
   "cell_type": "code",
   "execution_count": null,
   "id": "52b53843-cf4b-41d1-a4d2-5987f9c16499",
   "metadata": {},
   "outputs": [],
   "source": [
    "def find_common_elements(arr1, arr2, arr3):\n",
    "    i, j, k = 0, 0, 0\n",
    "    common_elements = []\n",
    "    \n",
    "    while i < len(arr1) and j < len(arr2) and k < len(arr3):\n",
    "        if arr1[i] == arr2[j] == arr3[k]:\n",
    "            common_elements.append(arr1[i])\n",
    "            i += 1\n",
    "            j += 1\n",
    "            k += 1\n",
    "        elif arr1[i] < arr2[j]:\n",
    "            i += 1\n",
    "        elif arr2[j] < arr3[k]:\n",
    "            j += 1\n",
    "        else:\n",
    "            k += 1\n",
    "    \n",
    "    return common_elements\n",
    "\n",
    "# Example usage\n",
    "arr1 = [1, 2, 3, 4, 5]\n",
    "arr2 = [1, 2, 5, 7, 9]\n",
    "arr3 = [1, 3, 4, 5, 8]\n",
    "result = find_common_elements(arr1, arr2, arr3)\n",
    "print(result)\n"
   ]
  },
  {
   "cell_type": "markdown",
   "id": "b3e2e6be-7bbb-48fa-9523-b9aec19ba1ac",
   "metadata": {},
   "source": [
    "<aside>\n",
    "💡 **Question 2**\n",
    "\n",
    "Given two **0-indexed** integer arrays nums1 and nums2, return *a list* answer *of size* 2 *where:*\n",
    "\n",
    "- answer[0] *is a list of all **distinct** integers in* nums1 *which are **not** present in* nums2*.*\n",
    "- answer[1] *is a list of all **distinct** integers in* nums2 *which are **not** present in* nums1.\n",
    "\n",
    "**Note** that the integers in the lists may be returned in **any** order.\n",
    "\n",
    "**Example 1:**\n",
    "\n",
    "**Input:** nums1 = [1,2,3], nums2 = [2,4,6]\n",
    "\n",
    "**Output:** [[1,3],[4,6]]\n",
    "\n",
    "**Explanation:**\n",
    "\n",
    "For nums1, nums1[1] = 2 is present at index 0 of nums2, whereas nums1[0] = 1 and nums1[2] = 3 are not present in nums2. Therefore, answer[0] = [1,3].\n",
    "\n",
    "For nums2, nums2[0] = 2 is present at index 1 of nums1, whereas nums2[1] = 4 and nums2[2] = 6 are not present in nums2. Therefore, answer[1] = [4,6].\n",
    "\n",
    "</aside>"
   ]
  },
  {
   "cell_type": "code",
   "execution_count": null,
   "id": "1618dda1-535a-468f-92a1-dc77570ddcd3",
   "metadata": {},
   "outputs": [],
   "source": [
    "def findDisjoint(nums1, nums2):\n",
    "    set1 = set(nums1)\n",
    "    set2 = set(nums2)\n",
    "\n",
    "    result1 = [num for num in nums1 if num not in set2]\n",
    "    result2 = [num for num in nums2 if num not in set1]\n",
    "\n",
    "    return [result1, result2]\n",
    "\n",
    "nums1 = [1, 2, 3]\n",
    "nums2 = [2, 4, 6]\n",
    "print(findDisjoint(nums1, nums2))\n",
    "\n"
   ]
  },
  {
   "cell_type": "markdown",
   "id": "58cd438c-b3c3-4e19-b6ab-32ead40884f2",
   "metadata": {},
   "source": [
    "<aside>\n",
    "💡 **Question 3**\n",
    "Given a 2D integer array matrix, return *the **transpose** of* matrix.\n",
    "\n",
    "The **transpose** of a matrix is the matrix flipped over its main diagonal, switching the matrix's row and column indices.\n",
    "\n",
    "**Example 1:**\n",
    "\n",
    "Input: matrix = [[1,2,3],[4,5,6],[7,8,9]]\n",
    "\n",
    "Output: [[1,4,7],[2,5,8],[3,6,9]]\n",
    "\n",
    "</aside>"
   ]
  },
  {
   "cell_type": "code",
   "execution_count": null,
   "id": "b17e5a89-a488-4a33-9245-e769aaf662f2",
   "metadata": {},
   "outputs": [],
   "source": [
    "def transpose(matrix):\n",
    "    rows = len(matrix)\n",
    "    cols = len(matrix[0])\n",
    "    transposed = [[0] * rows for _ in range(cols)]\n",
    "    \n",
    "    for i in range(rows):\n",
    "        for j in range(cols):\n",
    "            transposed[j][i] = matrix[i][j]\n",
    "    \n",
    "    return transposed\n",
    "\n",
    "# Example usage\n",
    "matrix = [[1, 2, 3], [4, 5, 6], [7, 8, 9]]\n",
    "result = transpose(matrix)\n",
    "print(result)\n"
   ]
  },
  {
   "cell_type": "markdown",
   "id": "eeb6c803-6c92-4978-af34-0cb39408f6d6",
   "metadata": {},
   "source": [
    "<aside>\n",
    "💡 **Question 4**\n",
    "Given an integer array nums of 2n integers, group these integers into n pairs (a1, b1), (a2, b2), ..., (an, bn) such that the sum of min(ai, bi) for all i is **maximized**. Return *the maximized sum*.\n",
    "\n",
    "**Example 1:**\n",
    "\n",
    "Input: nums = [1,4,3,2]\n",
    "\n",
    "Output: 4\n",
    "\n",
    "**Explanation:** All possible pairings (ignoring the ordering of elements) are:\n",
    "\n",
    "1. (1, 4), (2, 3) -> min(1, 4) + min(2, 3) = 1 + 2 = 3\n",
    "\n",
    "2. (1, 3), (2, 4) -> min(1, 3) + min(2, 4) = 1 + 2 = 3\n",
    "\n",
    "3. (1, 2), (3, 4) -> min(1, 2) + min(3, 4) = 1 + 3 = 4\n",
    "\n",
    "So the maximum possible sum is 4.\n",
    "\n",
    "</aside>"
   ]
  },
  {
   "cell_type": "code",
   "execution_count": null,
   "id": "608aaad2-2496-4c02-8b6b-ebf0195c1595",
   "metadata": {},
   "outputs": [],
   "source": [
    "def arrayPairSum(nums):\n",
    "    nums.sort()\n",
    "    max_sum = 0\n",
    "\n",
    "    for i in range(0, len(nums), 2):\n",
    "        max_sum += nums[i]\n",
    "\n",
    "    return max_sum\n"
   ]
  },
  {
   "cell_type": "markdown",
   "id": "d6a90915-cbd9-4811-8cf3-266c941d7d0f",
   "metadata": {},
   "source": [
    "<aside>\n",
    "💡 **Question 5**\n",
    "You have n coins and you want to build a staircase with these coins. The staircase consists of k rows where the ith row has exactly i coins. The last row of the staircase **may be** incomplete.\n",
    "\n",
    "Given the integer n, return *the number of **complete rows** of the staircase you will build*.\n",
    "\n",
    "**Example 1:**\n",
    "\n",
    "[]()\n",
    "\n",
    "![v2.jpg](https://s3-us-west-2.amazonaws.com/secure.notion-static.com/4bd91cfa-d2b1-47b3-8197-a72e8dcfff4b/v2.jpg)\n",
    "\n",
    "**Input:** n = 5\n",
    "\n",
    "**Output:** 2\n",
    "\n",
    "**Explanation:** Because the 3rd row is incomplete, we return 2.\n",
    "\n",
    "</aside>"
   ]
  },
  {
   "cell_type": "code",
   "execution_count": null,
   "id": "7be1fb9d-19f2-47d6-b767-6b6641def63a",
   "metadata": {},
   "outputs": [],
   "source": [
    "import math\n",
    "\n",
    "def arrange_coins(n):\n",
    "    k = int(math.sqrt(2 * n))\n",
    "    if k * (k + 1) <= 2 * n:\n",
    "        return k\n",
    "    return k - 1\n",
    "\n",
    "# Example usage\n",
    "n = 5\n",
    "result = arrange_coins(n)\n",
    "print(result)\n"
   ]
  },
  {
   "cell_type": "markdown",
   "id": "9853bce2-0d9c-4c12-b4dd-22a875a36ac0",
   "metadata": {},
   "source": [
    "<aside>\n",
    "💡 **Question 6**\n",
    "Given an integer array nums sorted in **non-decreasing** order, return *an array of **the squares of each number** sorted in non-decreasing order*.\n",
    "\n",
    "**Example 1:**\n",
    "\n",
    "Input: nums = [-4,-1,0,3,10]\n",
    "\n",
    "Output: [0,1,9,16,100]\n",
    "\n",
    "**Explanation:** After squaring, the array becomes [16,1,0,9,100].\n",
    "After sorting, it becomes [0,1,9,16,100]\n",
    "\n",
    "</aside>"
   ]
  },
  {
   "cell_type": "code",
   "execution_count": null,
   "id": "0298ac1e-9c21-4aee-a3f2-bfd14630e3f1",
   "metadata": {},
   "outputs": [],
   "source": [
    "def sortedSquares(nums):\n",
    "    result = [0] * len(nums)\n",
    "    left = 0\n",
    "    right = len(nums) - 1\n",
    "    index = len(nums) - 1\n",
    "    \n",
    "    while left <= right:\n",
    "        if abs(nums[left]) >= abs(nums[right]):\n",
    "            result[index] = nums[left] ** 2\n",
    "            left += 1\n",
    "        else:\n",
    "            result[index] = nums[right] ** 2\n",
    "            right -= 1\n",
    "        index -= 1\n",
    "    \n",
    "    return result\n"
   ]
  },
  {
   "cell_type": "markdown",
   "id": "bf6709fc-56a7-48b0-a883-cb9358e87ee7",
   "metadata": {},
   "source": [
    "<aside>\n",
    "💡 **Question 7**\n",
    "You are given an m x n matrix M initialized with all 0's and an array of operations ops, where ops[i] = [ai, bi] means M[x][y] should be incremented by one for all 0 <= x < ai and 0 <= y < bi.\n",
    "\n",
    "Count and return *the number of maximum integers in the matrix after performing all the operations*\n",
    "\n",
    "**Example 1:**\n",
    "\n",
    "![q4.jpg](https://s3-us-west-2.amazonaws.com/secure.notion-static.com/4d0890d0-7bc7-4f59-be8e-352d9f3c1c52/q4.jpg)\n",
    "\n",
    "**Input:** m = 3, n = 3, ops = [[2,2],[3,3]]\n",
    "\n",
    "**Output:** 4\n",
    "\n",
    "**Explanation:** The maximum integer in M is 2, and there are four of it in M. So return 4.\n",
    "\n",
    "</aside>"
   ]
  },
  {
   "cell_type": "code",
   "execution_count": null,
   "id": "f99a13c9-9f0d-4294-a768-64533474c385",
   "metadata": {},
   "outputs": [],
   "source": [
    "def sortedSquares(nums):\n",
    "    result = []\n",
    "\n",
    "    for num in nums:\n",
    "        result.append(num * num)\n",
    "\n",
    "    result.sort()\n",
    "\n",
    "    return result\n",
    "\n",
    "nums = [-4, -1, 0, 3, 10]\n",
    "print(sortedSquares(nums))\n"
   ]
  },
  {
   "cell_type": "markdown",
   "id": "ad824520-5649-4cee-8cd1-081adc198fb3",
   "metadata": {},
   "source": [
    "<aside>\n",
    "💡 **Question 8**\n",
    "\n",
    "Given the array nums consisting of 2n elements in the form [x1,x2,...,xn,y1,y2,...,yn].\n",
    "\n",
    "*Return the array in the form* [x1,y1,x2,y2,...,xn,yn].\n",
    "\n",
    "**Example 1:**\n",
    "\n",
    "**Input:** nums = [2,5,1,3,4,7], n = 3\n",
    "\n",
    "**Output:** [2,3,5,4,1,7]\n",
    "\n",
    "**Explanation:** Since x1=2, x2=5, x3=1, y1=3, y2=4, y3=7 then the answer is [2,3,5,4,1,7].\n",
    "\n",
    "</aside>"
   ]
  },
  {
   "cell_type": "code",
   "execution_count": 1,
   "id": "0104dd1d-f6bf-40cf-9618-5ac71a32ff8a",
   "metadata": {},
   "outputs": [
    {
     "name": "stdout",
     "output_type": "stream",
     "text": [
      "[2, 3, 5, 4, 1, 7]\n"
     ]
    }
   ],
   "source": [
    "def shuffle_array(nums, n):\n",
    "    result = []\n",
    "    for i in range(n):\n",
    "        result.append(nums[i])\n",
    "        result.append(nums[i + n])\n",
    "    return result\n",
    "\n",
    "# Example usage\n",
    "nums = [2, 5, 1, 3, 4, 7]\n",
    "n = 3\n",
    "result = shuffle_array(nums, n)\n",
    "print(result)\n"
   ]
  },
  {
   "cell_type": "code",
   "execution_count": null,
   "id": "86808c80-95b7-44a4-882f-0db83828160e",
   "metadata": {},
   "outputs": [],
   "source": []
  }
 ],
 "metadata": {
  "kernelspec": {
   "display_name": "Python 3 (ipykernel)",
   "language": "python",
   "name": "python3"
  },
  "language_info": {
   "codemirror_mode": {
    "name": "ipython",
    "version": 3
   },
   "file_extension": ".py",
   "mimetype": "text/x-python",
   "name": "python",
   "nbconvert_exporter": "python",
   "pygments_lexer": "ipython3",
   "version": "3.10.6"
  }
 },
 "nbformat": 4,
 "nbformat_minor": 5
}
